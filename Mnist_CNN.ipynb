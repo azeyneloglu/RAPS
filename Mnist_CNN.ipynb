{
  "nbformat": 4,
  "nbformat_minor": 0,
  "metadata": {
    "colab": {
      "name": "Mnist_CNN.ipynb",
      "provenance": [],
      "collapsed_sections": [],
      "authorship_tag": "ABX9TyNLLP/smYOZ55/rsRdrX4GL",
      "include_colab_link": true
    },
    "kernelspec": {
      "name": "python3",
      "display_name": "Python 3"
    }
  },
  "cells": [
    {
      "cell_type": "markdown",
      "metadata": {
        "id": "view-in-github",
        "colab_type": "text"
      },
      "source": [
        "<a href=\"https://colab.research.google.com/github/azeyneloglu/RAPS/blob/master/Mnist_CNN.ipynb\" target=\"_parent\"><img src=\"https://colab.research.google.com/assets/colab-badge.svg\" alt=\"Open In Colab\"/></a>"
      ]
    },
    {
      "cell_type": "code",
      "metadata": {
        "id": "xSrOQy3WiMCL",
        "colab_type": "code",
        "colab": {
          "base_uri": "https://localhost:8080/",
          "height": 34
        },
        "outputId": "34da360b-8f7a-4496-a7fd-aa2ca0be42b2"
      },
      "source": [
        "import numpy as np\n",
        "from keras import layers\n",
        "from keras.layers import Input, Dense, Activation, ZeroPadding2D, BatchNormalization, Flatten, Conv2D\n",
        "from keras.layers import AveragePooling2D, MaxPooling2D, Dropout, GlobalMaxPooling2D, GlobalAveragePooling2D\n",
        "from keras.models import Model\n",
        "from keras.preprocessing import image\n",
        "from keras.utils import layer_utils\n",
        "from keras.utils.data_utils import get_file\n",
        "from keras.applications.imagenet_utils import preprocess_input\n",
        "\n",
        "from IPython.display import SVG\n",
        "from keras.utils.vis_utils import model_to_dot\n",
        "from keras.utils import plot_model\n",
        "#from kt_utils import *\n",
        "\n",
        "import keras.backend as K\n",
        "K.set_image_data_format('channels_last')\n",
        "import matplotlib.pyplot as plt\n",
        "from matplotlib.pyplot import imshow\n",
        "import keras\n",
        "\n",
        "%matplotlib inline"
      ],
      "execution_count": 5,
      "outputs": [
        {
          "output_type": "stream",
          "text": [
            "Using TensorFlow backend.\n"
          ],
          "name": "stderr"
        }
      ]
    },
    {
      "cell_type": "code",
      "metadata": {
        "id": "X3bL6jWjiTpT",
        "colab_type": "code",
        "colab": {
          "base_uri": "https://localhost:8080/",
          "height": 51
        },
        "outputId": "5dd485fb-d008-407e-fd48-a0982046ea8b"
      },
      "source": [
        "\n",
        "#Get mnist Data\n",
        "import tensorflow as tf\n",
        "data = tf.keras.datasets.mnist.load_data(\n",
        "    path='mnist.npz'\n",
        ")"
      ],
      "execution_count": 6,
      "outputs": [
        {
          "output_type": "stream",
          "text": [
            "Downloading data from https://storage.googleapis.com/tensorflow/tf-keras-datasets/mnist.npz\n",
            "11493376/11490434 [==============================] - 0s 0us/step\n"
          ],
          "name": "stdout"
        }
      ]
    },
    {
      "cell_type": "code",
      "metadata": {
        "id": "m5qR1pkYjlVv",
        "colab_type": "code",
        "colab": {}
      },
      "source": [
        "#Split the data\n",
        "X_train = data[0][0]\n",
        "y_train = data[0][1]\n",
        "X_test = data[1][0]\n",
        "y_test = data[1][1]"
      ],
      "execution_count": 0,
      "outputs": []
    },
    {
      "cell_type": "code",
      "metadata": {
        "id": "Xnbzer5wjtEN",
        "colab_type": "code",
        "outputId": "75bd1006-8018-4990-ec99-df5fbb179fd4",
        "colab": {
          "base_uri": "https://localhost:8080/",
          "height": 34
        }
      },
      "source": [
        "#Each example  has dimensions 28*28\n",
        "example = X_train[0]\n",
        "example.shape"
      ],
      "execution_count": 8,
      "outputs": [
        {
          "output_type": "execute_result",
          "data": {
            "text/plain": [
              "(28, 28)"
            ]
          },
          "metadata": {
            "tags": []
          },
          "execution_count": 8
        }
      ]
    },
    {
      "cell_type": "code",
      "metadata": {
        "id": "AYaDDFHojyne",
        "colab_type": "code",
        "outputId": "200505cf-e9eb-4887-f0c1-ba09474c68a3",
        "colab": {
          "base_uri": "https://localhost:8080/",
          "height": 282
        }
      },
      "source": [
        "#View data as image\n",
        "\n",
        "import matplotlib.pyplot as plt\n",
        "\n",
        "plt.imshow(example)"
      ],
      "execution_count": 0,
      "outputs": [
        {
          "output_type": "execute_result",
          "data": {
            "text/plain": [
              "<matplotlib.image.AxesImage at 0x7fc58ef2b438>"
            ]
          },
          "metadata": {
            "tags": []
          },
          "execution_count": 22
        },
        {
          "output_type": "display_data",
          "data": {
            "image/png": "[encoded data removed]",
            "text/plain": [
              "<Figure size 432x288 with 1 Axes>"
            ]
          },
          "metadata": {
            "tags": [],
            "needs_background": "light"
          }
        }
      ]
    },
    {
      "cell_type": "code",
      "metadata": {
        "id": "5q3zLplzj0Jg",
        "colab_type": "code",
        "colab": {}
      },
      "source": [
        "\n",
        "def CNN_model(input_shape = (28,28,1)):\n",
        "    \n",
        "    # Define the input as a tensor with shape input_shape\n",
        "    X_input = Input(input_shape)\n",
        "    \n",
        "    #First Conv Layer with 5*5 16 filters\n",
        "    X = Conv2D(16,(5,5),strides=(1,1),padding='valid',name='conv0')(X_input)   \n",
        "    #X = BatchNormalization(axis=3,name='bn0')(X)\n",
        "    X = Activation ('relu')(X)\n",
        "    \n",
        "    #MAXPOOL\n",
        "    \n",
        "    X = MaxPooling2D((2,2),strides=(2,2),name='max_pool0')(X)    \n",
        "    \n",
        "    #Second Convlayer\n",
        "    \n",
        "    X = Conv2D(32,(3,3),strides=(1,1),padding='valid',name='conv1')(X)\n",
        "    #X = BatchNormalization(axis=3,name='bn1')(X)\n",
        "    X = Activation('relu')(X)\n",
        "    #MAXPOOL\n",
        "    \n",
        "    X = MaxPooling2D((2,2),strides=(2,2),name='max_pool1')(X)   \n",
        "    \n",
        "    \n",
        "    #Flatten X to prepare it for final fully connected layer\n",
        "    \n",
        "    X = Flatten()(X)\n",
        "    \n",
        "    X = Dense(10,activation='softmax', name='fc') (X)\n",
        "    \n",
        "    model = Model(inputs = X_input, outputs = X, name='MinstCNNModel')\n",
        "    \n",
        "    return model\n",
        "    \n",
        "    "
      ],
      "execution_count": 0,
      "outputs": []
    },
    {
      "cell_type": "code",
      "metadata": {
        "id": "8JVFlS_Kj2I9",
        "colab_type": "code",
        "colab": {}
      },
      "source": [
        "#Create the Model\n",
        "\n",
        "model = CNN_model(input_shape=(28,28,1))"
      ],
      "execution_count": 0,
      "outputs": []
    },
    {
      "cell_type": "code",
      "metadata": {
        "id": "Eymvmp1Rj39j",
        "colab_type": "code",
        "colab": {}
      },
      "source": [
        "\n",
        "\n",
        "model.compile(optimizer=\"adam\",loss=keras.losses.categorical_crossentropy,metrics=[\"accuracy\"])"
      ],
      "execution_count": 0,
      "outputs": []
    },
    {
      "cell_type": "code",
      "metadata": {
        "id": "_0L8Fc0-j6Ou",
        "colab_type": "code",
        "outputId": "7ea10732-4ea5-4bb9-833f-564c37c3d835",
        "colab": {
          "base_uri": "https://localhost:8080/",
          "height": 697
        }
      },
      "source": [
        "\n",
        "#Prepare data to feed to keras model\n",
        "X_train = X_train.reshape(X_train.shape[0],28,28,1)\n",
        "X_test = X_test.reshape(X_test.shape[0],28,28,1)\n",
        "\n",
        "#Normalize the inputs\n",
        "X_train = X_train.astype('float32')\n",
        "X_test = X_test.astype('float32')\n",
        "X_train /= 255\n",
        "X_test /= 255\n",
        "\n",
        "classes = 10\n",
        "y_train = keras.utils.to_categorical(y_train, classes)\n",
        "y_test = keras.utils.to_categorical(y_test, classes)\n",
        "\n",
        "history=model.fit(x = X_train, y = y_train, epochs = 20, batch_size = 32)\n",
        "\n",
        "#We have 0.9983 training accuracy after 20 epochs"
      ],
      "execution_count": 0,
      "outputs": [
        {
          "output_type": "stream",
          "text": [
            "Epoch 1/20\n",
            "60000/60000 [==============================] - 29s 486us/step - loss: 0.1880 - accuracy: 0.9438\n",
            "Epoch 2/20\n",
            "60000/60000 [==============================] - 29s 484us/step - loss: 0.0587 - accuracy: 0.9822\n",
            "Epoch 3/20\n",
            "60000/60000 [==============================] - 29s 486us/step - loss: 0.0448 - accuracy: 0.9862\n",
            "Epoch 4/20\n",
            "60000/60000 [==============================] - 30s 492us/step - loss: 0.0357 - accuracy: 0.9888\n",
            "Epoch 5/20\n",
            "60000/60000 [==============================] - 29s 485us/step - loss: 0.0302 - accuracy: 0.9904\n",
            "Epoch 6/20\n",
            "60000/60000 [==============================] - 29s 486us/step - loss: 0.0250 - accuracy: 0.9920\n",
            "Epoch 7/20\n",
            "60000/60000 [==============================] - 29s 485us/step - loss: 0.0211 - accuracy: 0.9931\n",
            "Epoch 8/20\n",
            "60000/60000 [==============================] - 29s 485us/step - loss: 0.0186 - accuracy: 0.9937\n",
            "Epoch 9/20\n",
            "60000/60000 [==============================] - 29s 483us/step - loss: 0.0156 - accuracy: 0.9948\n",
            "Epoch 10/20\n",
            "60000/60000 [==============================] - 29s 485us/step - loss: 0.0139 - accuracy: 0.9955\n",
            "Epoch 11/20\n",
            "60000/60000 [==============================] - 29s 481us/step - loss: 0.0122 - accuracy: 0.9959\n",
            "Epoch 12/20\n",
            "60000/60000 [==============================] - 29s 482us/step - loss: 0.0101 - accuracy: 0.9967\n",
            "Epoch 13/20\n",
            "60000/60000 [==============================] - 29s 484us/step - loss: 0.0102 - accuracy: 0.9968\n",
            "Epoch 14/20\n",
            "60000/60000 [==============================] - 28s 475us/step - loss: 0.0090 - accuracy: 0.9971\n",
            "Epoch 15/20\n",
            "60000/60000 [==============================] - 29s 481us/step - loss: 0.0071 - accuracy: 0.9977\n",
            "Epoch 16/20\n",
            "60000/60000 [==============================] - 28s 474us/step - loss: 0.0066 - accuracy: 0.9978\n",
            "Epoch 17/20\n",
            "60000/60000 [==============================] - 28s 471us/step - loss: 0.0062 - accuracy: 0.9981\n",
            "Epoch 18/20\n",
            "60000/60000 [==============================] - 28s 470us/step - loss: 0.0063 - accuracy: 0.9978\n",
            "Epoch 19/20\n",
            "60000/60000 [==============================] - 28s 470us/step - loss: 0.0053 - accuracy: 0.9982\n",
            "Epoch 20/20\n",
            "60000/60000 [==============================] - 28s 475us/step - loss: 0.0052 - accuracy: 0.9983\n"
          ],
          "name": "stdout"
        }
      ]
    },
    {
      "cell_type": "code",
      "metadata": {
        "id": "u4JOw61emIel",
        "colab_type": "code",
        "outputId": "3de3f171-11b5-498e-f6b8-09fd35a9b1f6",
        "colab": {
          "base_uri": "https://localhost:8080/",
          "height": 85
        }
      },
      "source": [
        "#Test set accuracy is 0.9901 across 10000 test images\n",
        "\n",
        "preds = model.evaluate(x= X_test, y=y_test)\n",
        "\n",
        "print()\n",
        "print (\"Loss = \" + str(preds[0]))\n",
        "print (\"Test Accuracy = \" + str(preds[1]))\n"
      ],
      "execution_count": 0,
      "outputs": [
        {
          "output_type": "stream",
          "text": [
            "10000/10000 [==============================] - 2s 170us/step\n",
            "\n",
            "Loss = 0.05002926743291228\n",
            "Test Accuracy = 0.9901000261306763\n"
          ],
          "name": "stdout"
        }
      ]
    },
    {
      "cell_type": "code",
      "metadata": {
        "id": "LS2scxMAv1vJ",
        "colab_type": "code",
        "colab": {}
      },
      "source": [
        "#Experimenting with dropout model to increase test accuracy\n",
        "\n",
        "def CNN_with_DO(input_shape = (28,28,1),classes = 10):\n",
        "\n",
        "# Define the input as a tensor with shape input_shape\n",
        "    X_input = Input(input_shape)\n",
        "    \n",
        "    #First Conv Layer with 5*5 16 filters\n",
        "    X = Conv2D(16,(5,5),strides=(1,1),padding='valid',name='conv0')(X_input)   #24*24*16\n",
        "    #X = BatchNormalization(axis=3,name='bn0')(X)\n",
        "    X = Activation ('relu')(X)\n",
        "    \n",
        "    #MAXPOOL\n",
        "    \n",
        "    X = MaxPooling2D((2,2),strides=(2,2),name='max_pool0')(X)     #10*10*32\n",
        "    \n",
        "    #Second Convlayer\n",
        "    \n",
        "    X = Conv2D(32,(3,3),strides=(1,1),padding='valid',name='conv1')(X)\n",
        "    #X = BatchNormalization(axis=3,name='bn1')(X)\n",
        "    X = Activation('relu')(X)\n",
        "    #MAXPOOL\n",
        "    \n",
        "    X = MaxPooling2D((2,2),strides=(2,2),name='max_pool1')(X)   #5*5*32\n",
        "\n",
        "    #X = Dropout(0.25)(X)\n",
        "    \n",
        "    \n",
        "    #Flatten X to prepare it for final fully connected layer\n",
        "    \n",
        "    X = Flatten()(X)\n",
        "    X = Dropout(0.5)(X) #Dropout is used in final layer\n",
        "    X = Dense(10,activation='softmax', name='fc') (X)\n",
        "    \n",
        "    \n",
        "    model = Model(inputs = X_input, outputs = X, name='MinstCNNModel')\n",
        "    \n",
        "    return model\n",
        "    "
      ],
      "execution_count": 0,
      "outputs": []
    },
    {
      "cell_type": "code",
      "metadata": {
        "id": "PgblWjPM3NeY",
        "colab_type": "code",
        "colab": {}
      },
      "source": [
        "model_do = CNN_with_DO(input_shape = (28,28,1))"
      ],
      "execution_count": 0,
      "outputs": []
    },
    {
      "cell_type": "code",
      "metadata": {
        "id": "11nLWf9Y3XL8",
        "colab_type": "code",
        "colab": {}
      },
      "source": [
        "\n",
        "model_do.compile(optimizer=\"adam\",loss=keras.losses.categorical_crossentropy,metrics=[\"accuracy\"])\n"
      ],
      "execution_count": 0,
      "outputs": []
    },
    {
      "cell_type": "code",
      "metadata": {
        "id": "W5WVSF_c3dfw",
        "colab_type": "code",
        "outputId": "2b5241ae-a2df-4cbc-824e-523e8a08bec4",
        "colab": {
          "base_uri": "https://localhost:8080/",
          "height": 714
        }
      },
      "source": [
        "X_train = data[0][0]\n",
        "y_train = data[0][1]\n",
        "X_test = data[1][0]\n",
        "y_test = data[1][1]\n",
        "\n",
        "X_train = X_train.reshape(X_train.shape[0],28,28,1)\n",
        "X_test = X_test.reshape(X_test.shape[0],28,28,1)\n",
        "\n",
        "X_train = X_train.astype('float32')\n",
        "X_test = X_test.astype('float32')\n",
        "X_train /= 255\n",
        "X_test /= 255\n",
        "\n",
        "classes = 10\n",
        "y_train = keras.utils.to_categorical(y_train, classes)\n",
        "y_test = keras.utils.to_categorical(y_test, classes)\n",
        "\n",
        "model_do.fit(x = X_train, y = y_train, epochs = 20, batch_size = 32)"
      ],
      "execution_count": 29,
      "outputs": [
        {
          "output_type": "stream",
          "text": [
            "Epoch 1/20\n",
            "60000/60000 [==============================] - 28s 471us/step - loss: 0.2493 - accuracy: 0.9227\n",
            "Epoch 2/20\n",
            "60000/60000 [==============================] - 28s 468us/step - loss: 0.0941 - accuracy: 0.9718\n",
            "Epoch 3/20\n",
            "60000/60000 [==============================] - 28s 465us/step - loss: 0.0746 - accuracy: 0.9770\n",
            "Epoch 4/20\n",
            "60000/60000 [==============================] - 28s 463us/step - loss: 0.0655 - accuracy: 0.9799\n",
            "Epoch 5/20\n",
            "60000/60000 [==============================] - 28s 465us/step - loss: 0.0580 - accuracy: 0.9820\n",
            "Epoch 6/20\n",
            "60000/60000 [==============================] - 28s 470us/step - loss: 0.0551 - accuracy: 0.9827\n",
            "Epoch 7/20\n",
            "60000/60000 [==============================] - 28s 470us/step - loss: 0.0501 - accuracy: 0.9840\n",
            "Epoch 8/20\n",
            "60000/60000 [==============================] - 28s 470us/step - loss: 0.0482 - accuracy: 0.9846\n",
            "Epoch 9/20\n",
            "60000/60000 [==============================] - 29s 486us/step - loss: 0.0465 - accuracy: 0.9849\n",
            "Epoch 10/20\n",
            "60000/60000 [==============================] - 28s 475us/step - loss: 0.0455 - accuracy: 0.9854\n",
            "Epoch 11/20\n",
            "60000/60000 [==============================] - 28s 472us/step - loss: 0.0425 - accuracy: 0.9864\n",
            "Epoch 12/20\n",
            "60000/60000 [==============================] - 28s 467us/step - loss: 0.0405 - accuracy: 0.9869\n",
            "Epoch 13/20\n",
            "60000/60000 [==============================] - 28s 474us/step - loss: 0.0409 - accuracy: 0.9870\n",
            "Epoch 14/20\n",
            "60000/60000 [==============================] - 29s 481us/step - loss: 0.0376 - accuracy: 0.9882\n",
            "Epoch 15/20\n",
            "60000/60000 [==============================] - 29s 490us/step - loss: 0.0371 - accuracy: 0.9882\n",
            "Epoch 16/20\n",
            "60000/60000 [==============================] - 29s 485us/step - loss: 0.0357 - accuracy: 0.9879\n",
            "Epoch 17/20\n",
            "60000/60000 [==============================] - 29s 477us/step - loss: 0.0364 - accuracy: 0.9881\n",
            "Epoch 18/20\n",
            "60000/60000 [==============================] - 28s 470us/step - loss: 0.0350 - accuracy: 0.9890\n",
            "Epoch 19/20\n",
            "60000/60000 [==============================] - 28s 472us/step - loss: 0.0335 - accuracy: 0.9891\n",
            "Epoch 20/20\n",
            "60000/60000 [==============================] - 29s 482us/step - loss: 0.0329 - accuracy: 0.9893\n"
          ],
          "name": "stdout"
        },
        {
          "output_type": "execute_result",
          "data": {
            "text/plain": [
              "<keras.callbacks.callbacks.History at 0x7f44dc4b9438>"
            ]
          },
          "metadata": {
            "tags": []
          },
          "execution_count": 29
        }
      ]
    },
    {
      "cell_type": "code",
      "metadata": {
        "id": "8CDxhM_w3lDN",
        "colab_type": "code",
        "colab": {
          "base_uri": "https://localhost:8080/",
          "height": 85
        },
        "outputId": "6e25e7f7-0353-4626-be8b-6c8c219cf555"
      },
      "source": [
        "# Adding dropout to final layer increased test set accuracy by 0.0018\n",
        "\n",
        "preds_do = model_do.evaluate(x= X_test, y=y_test)\n",
        "\n",
        "print()\n",
        "print (\"Loss = \" + str(preds_do[0]))\n",
        "print (\"Test Accuracy = \" + str(preds_do[1]))"
      ],
      "execution_count": 31,
      "outputs": [
        {
          "output_type": "stream",
          "text": [
            "10000/10000 [==============================] - 2s 161us/step\n",
            "\n",
            "Loss = 0.02513978519856173\n",
            "Test Accuracy = 0.9918000102043152\n"
          ],
          "name": "stdout"
        }
      ]
    },
    {
      "cell_type": "code",
      "metadata": {
        "id": "zyazlLQ28Ixu",
        "colab_type": "code",
        "colab": {
          "base_uri": "https://localhost:8080/",
          "height": 493
        },
        "outputId": "0210467e-399b-4d53-b2a6-0dc1516e1d5f"
      },
      "source": [
        "model_do.summary()"
      ],
      "execution_count": 32,
      "outputs": [
        {
          "output_type": "stream",
          "text": [
            "Model: \"MinstCNNModel\"\n",
            "_________________________________________________________________\n",
            "Layer (type)                 Output Shape              Param #   \n",
            "=================================================================\n",
            "input_5 (InputLayer)         (None, 28, 28, 1)         0         \n",
            "_________________________________________________________________\n",
            "conv0 (Conv2D)               (None, 24, 24, 16)        416       \n",
            "_________________________________________________________________\n",
            "activation_9 (Activation)    (None, 24, 24, 16)        0         \n",
            "_________________________________________________________________\n",
            "max_pool0 (MaxPooling2D)     (None, 12, 12, 16)        0         \n",
            "_________________________________________________________________\n",
            "conv1 (Conv2D)               (None, 10, 10, 32)        4640      \n",
            "_________________________________________________________________\n",
            "activation_10 (Activation)   (None, 10, 10, 32)        0         \n",
            "_________________________________________________________________\n",
            "max_pool1 (MaxPooling2D)     (None, 5, 5, 32)          0         \n",
            "_________________________________________________________________\n",
            "flatten_5 (Flatten)          (None, 800)               0         \n",
            "_________________________________________________________________\n",
            "dropout_5 (Dropout)          (None, 800)               0         \n",
            "_________________________________________________________________\n",
            "fc (Dense)                   (None, 10)                8010      \n",
            "=================================================================\n",
            "Total params: 13,066\n",
            "Trainable params: 13,066\n",
            "Non-trainable params: 0\n",
            "_________________________________________________________________\n"
          ],
          "name": "stdout"
        }
      ]
    },
    {
      "cell_type": "code",
      "metadata": {
        "id": "ydT-hN0XA2HL",
        "colab_type": "code",
        "colab": {}
      },
      "source": [
        ""
      ],
      "execution_count": 0,
      "outputs": []
    }
  ]
}